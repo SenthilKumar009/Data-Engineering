{
 "cells": [
  {
   "cell_type": "code",
   "execution_count": 1,
   "id": "9b319fd7",
   "metadata": {},
   "outputs": [
    {
     "name": "stdout",
     "output_type": "stream",
     "text": [
      "Collecting psycopg2\n",
      "  Downloading psycopg2-2.9.5-cp39-cp39-win_amd64.whl (1.2 MB)\n",
      "Installing collected packages: psycopg2\n",
      "Successfully installed psycopg2-2.9.5\n"
     ]
    }
   ],
   "source": [
    "!pip install psycopg2"
   ]
  },
  {
   "cell_type": "markdown",
   "id": "20a628ba",
   "metadata": {},
   "source": [
    "## Import the Library"
   ]
  },
  {
   "cell_type": "code",
   "execution_count": 2,
   "id": "e52760ff",
   "metadata": {},
   "outputs": [],
   "source": [
    "import psycopg2"
   ]
  },
  {
   "cell_type": "markdown",
   "id": "c9792ada",
   "metadata": {},
   "source": [
    "## Create a connection to a database"
   ]
  },
  {
   "cell_type": "code",
   "execution_count": 7,
   "id": "81f077e2",
   "metadata": {},
   "outputs": [],
   "source": [
    "try:\n",
    "    conn = psycopg2.connect(\"host=127.0.0.1 dbname=postgres user=root password=root\")\n",
    "except psycopg2.Error as e:\n",
    "    print(\"Error: Could not make connection to the postgres database\")\n",
    "    print(e)"
   ]
  },
  {
   "cell_type": "markdown",
   "id": "16cdc562",
   "metadata": {},
   "source": [
    "## Use the connection to get a cursor that can be used to execute queries"
   ]
  },
  {
   "cell_type": "code",
   "execution_count": 9,
   "id": "481e02ba",
   "metadata": {},
   "outputs": [],
   "source": [
    "try:\n",
    "    cur = conn.cursor()\n",
    "except psycopg2.Error as e:\n",
    "    print(\"Error: could not get the cursor to the Database\")\n",
    "    print(e)"
   ]
  },
  {
   "cell_type": "markdown",
   "id": "1db096c5",
   "metadata": {},
   "source": [
    "### Set autocommit to ignore autocommit after all the actions"
   ]
  },
  {
   "cell_type": "code",
   "execution_count": 11,
   "id": "a54c056c",
   "metadata": {},
   "outputs": [],
   "source": [
    "conn.set_session(autocommit=True)"
   ]
  },
  {
   "cell_type": "markdown",
   "id": "cf4c50a8",
   "metadata": {},
   "source": [
    "### create a database to work with"
   ]
  },
  {
   "cell_type": "code",
   "execution_count": 13,
   "id": "d7b7dce2",
   "metadata": {},
   "outputs": [],
   "source": [
    "try:\n",
    "    cur.execute(\"create database myfirstdb\")\n",
    "except psycopg2.Error as e:\n",
    "    print(e)"
   ]
  },
  {
   "cell_type": "markdown",
   "id": "29dd7487",
   "metadata": {},
   "source": [
    "### Add the database name in the connect statement. Let's close our connection to the default database, reconnect to the Udacity database, and get a new cursor"
   ]
  },
  {
   "cell_type": "code",
   "execution_count": 15,
   "id": "1b66b7b5",
   "metadata": {},
   "outputs": [],
   "source": [
    "try:\n",
    "    conn.close()\n",
    "except psycopg2.Error as e:\n",
    "    print(e)\n",
    "    \n",
    "try:\n",
    "    conn = psycopg2.connect(\"host=127.0.0.1 dbname=myfirstdb user=root password=root\")\n",
    "except psycopg2.Error as e:\n",
    "    print(\"Error: Could not make connection to the postgres database\")\n",
    "    print(e)\n",
    "    \n",
    "try:\n",
    "    cur = conn.cursor()\n",
    "except psycopg2.Error as e:\n",
    "    print(\"Error: could not get the cursor to the Database\")\n",
    "    print(e)\n",
    "\n",
    "conn.set_session(autocommit=True)"
   ]
  },
  {
   "cell_type": "markdown",
   "id": "0f246970",
   "metadata": {},
   "source": [
    "### Create table for students which includes below columns\n",
    "\n",
    "student_id <br>\n",
    "name <br>\n",
    "age <br>\n",
    "gender <br>\n",
    "subject<br>\n",
    "marks<br>"
   ]
  },
  {
   "cell_type": "code",
   "execution_count": 17,
   "id": "ba0d56bb",
   "metadata": {},
   "outputs": [],
   "source": [
    "try:\n",
    "    cur.execute(\"create table if not exists students (student_id int, name varchar, age int, gender varchar,\\\n",
    "                 subject varchar, marks int)\")\n",
    "except psycopg2.Error as e:\n",
    "    print(\"Error: issue creating table\")\n",
    "    print(e)"
   ]
  },
  {
   "cell_type": "markdown",
   "id": "dbf8e60f",
   "metadata": {},
   "source": [
    "### Insert the following to rows in to the table\n",
    "\n",
    "First Row: 1, \"Raj\", 23, \"Male\", \"Python\", 90 <br>\n",
    "Second Row: 2, \"Ram\", 34, \"Male\", \"Java\", 90 <br>"
   ]
  },
  {
   "cell_type": "code",
   "execution_count": 18,
   "id": "df379a60",
   "metadata": {},
   "outputs": [],
   "source": [
    "try:\n",
    "    cur.execute(\"insert into students (student_id, name, age, gender, subject, marks)\\\n",
    "                 values(%s, %s, %s, %s, %s, %s)\", (1, \"Raj\", 23, \"Male\", \"Python\", 90))\n",
    "except psycopg2.Error as e:\n",
    "    print(\"Error: inserting rows\")\n",
    "    print(e)\n",
    "\n",
    "try:\n",
    "    cur.execute(\"insert into students (student_id, name, age, gender, subject, marks)\\\n",
    "                 values(%s, %s, %s, %s, %s, %s)\", (2, \"Ram\", 34, \"Male\", \"Java\", 90))\n",
    "except psycopg2.Error as e:\n",
    "    print(\"Error: inserting rows\")\n",
    "    print(e)"
   ]
  },
  {
   "cell_type": "markdown",
   "id": "9af1be48",
   "metadata": {},
   "source": [
    "### Validate your data"
   ]
  },
  {
   "cell_type": "code",
   "execution_count": 21,
   "id": "24a09bd7",
   "metadata": {},
   "outputs": [
    {
     "name": "stdout",
     "output_type": "stream",
     "text": [
      "(1, 'Raj', 23, 'Male', 'Python', 90)\n",
      "(2, 'Ram', 34, 'Male', 'Java', 90)\n"
     ]
    }
   ],
   "source": [
    "try:\n",
    "    cur.execute(\"select * from students;\")\n",
    "except psycopg2.Error as e:\n",
    "    print (\"Error: select error\")\n",
    "    print(e)\n",
    "\n",
    "row = cur.fetchone()\n",
    "while row:\n",
    "    print(row)\n",
    "    row = cur.fetchone()"
   ]
  },
  {
   "cell_type": "markdown",
   "id": "03aba290",
   "metadata": {},
   "source": [
    "### Close the connection"
   ]
  },
  {
   "cell_type": "code",
   "execution_count": 22,
   "id": "b6a20c57",
   "metadata": {},
   "outputs": [],
   "source": [
    "cur.close()\n",
    "conn.close()"
   ]
  },
  {
   "cell_type": "code",
   "execution_count": null,
   "id": "98ae1f00",
   "metadata": {},
   "outputs": [],
   "source": []
  }
 ],
 "metadata": {
  "kernelspec": {
   "display_name": "Python 3 (ipykernel)",
   "language": "python",
   "name": "python3"
  },
  "language_info": {
   "codemirror_mode": {
    "name": "ipython",
    "version": 3
   },
   "file_extension": ".py",
   "mimetype": "text/x-python",
   "name": "python",
   "nbconvert_exporter": "python",
   "pygments_lexer": "ipython3",
   "version": "3.9.12"
  }
 },
 "nbformat": 4,
 "nbformat_minor": 5
}
